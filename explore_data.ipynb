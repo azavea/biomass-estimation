{
 "cells": [
  {
   "cell_type": "markdown",
   "metadata": {},
   "source": [
    "# Explore [Biomass Estimation](https://www.drivendata.org/competitions/99/biomass-estimation/) contest data"
   ]
  },
  {
   "cell_type": "code",
   "execution_count": 85,
   "metadata": {},
   "outputs": [],
   "source": [
    "from os.path import join, basename, isfile\n",
    "import random\n",
    "from multiprocessing.pool import ThreadPool\n",
    "import os\n",
    "\n",
    "import s3fs\n",
    "from tqdm.autonotebook import tqdm\n",
    "import numpy as np\n",
    "import pandas\n",
    "import rasterio\n",
    "import matplotlib\n",
    "import matplotlib.pyplot as plt\n",
    "from torch.utils.data import Dataset\n",
    "import torch"
   ]
  },
  {
   "cell_type": "code",
   "execution_count": 86,
   "metadata": {},
   "outputs": [],
   "source": [
    "root_dir = '/Users/lewfish/data/biomass/'\n",
    "dataset_dir = join(root_dir, 'dataset')\n",
    "output_dir = join(root_dir, 'output')\n",
    "os.makedirs(dataset_dir, exist_ok=True)\n",
    "os.makedirs(output_dir, exist_ok=True)\n",
    "features_csv_path = join(dataset_dir, 'features_metadata.csv')\n",
    "labels_csv_path = join(dataset_dir, 'train_agbm_metadata.csv')\n",
    "image_dir = join(dataset_dir, 'train_features')\n",
    "label_dir = join(dataset_dir, 'train_agbm')"
   ]
  },
  {
   "cell_type": "code",
   "execution_count": 90,
   "metadata": {},
   "outputs": [
    {
     "data": {
      "text/html": [
       "<div>\n",
       "<style scoped>\n",
       "    .dataframe tbody tr th:only-of-type {\n",
       "        vertical-align: middle;\n",
       "    }\n",
       "\n",
       "    .dataframe tbody tr th {\n",
       "        vertical-align: top;\n",
       "    }\n",
       "\n",
       "    .dataframe thead th {\n",
       "        text-align: right;\n",
       "    }\n",
       "</style>\n",
       "<table border=\"1\" class=\"dataframe\">\n",
       "  <thead>\n",
       "    <tr style=\"text-align: right;\">\n",
       "      <th></th>\n",
       "      <th>filename</th>\n",
       "      <th>chip_id</th>\n",
       "      <th>satellite</th>\n",
       "      <th>split</th>\n",
       "      <th>month</th>\n",
       "      <th>size</th>\n",
       "      <th>cksum</th>\n",
       "      <th>s3path_us</th>\n",
       "      <th>s3path_eu</th>\n",
       "      <th>s3path_as</th>\n",
       "      <th>corresponding_agbm</th>\n",
       "    </tr>\n",
       "  </thead>\n",
       "  <tbody>\n",
       "    <tr>\n",
       "      <th>0</th>\n",
       "      <td>0003d2eb_S1_00.tif</td>\n",
       "      <td>0003d2eb</td>\n",
       "      <td>S1</td>\n",
       "      <td>train</td>\n",
       "      <td>September</td>\n",
       "      <td>1049524</td>\n",
       "      <td>3953454613</td>\n",
       "      <td>s3://drivendata-competition-biomassters-public...</td>\n",
       "      <td>s3://drivendata-competition-biomassters-public...</td>\n",
       "      <td>s3://drivendata-competition-biomassters-public...</td>\n",
       "      <td>0003d2eb_agbm.tif</td>\n",
       "    </tr>\n",
       "    <tr>\n",
       "      <th>1</th>\n",
       "      <td>0003d2eb_S1_01.tif</td>\n",
       "      <td>0003d2eb</td>\n",
       "      <td>S1</td>\n",
       "      <td>train</td>\n",
       "      <td>October</td>\n",
       "      <td>1049524</td>\n",
       "      <td>3531005382</td>\n",
       "      <td>s3://drivendata-competition-biomassters-public...</td>\n",
       "      <td>s3://drivendata-competition-biomassters-public...</td>\n",
       "      <td>s3://drivendata-competition-biomassters-public...</td>\n",
       "      <td>0003d2eb_agbm.tif</td>\n",
       "    </tr>\n",
       "    <tr>\n",
       "      <th>2</th>\n",
       "      <td>0003d2eb_S1_02.tif</td>\n",
       "      <td>0003d2eb</td>\n",
       "      <td>S1</td>\n",
       "      <td>train</td>\n",
       "      <td>November</td>\n",
       "      <td>1049524</td>\n",
       "      <td>1401197002</td>\n",
       "      <td>s3://drivendata-competition-biomassters-public...</td>\n",
       "      <td>s3://drivendata-competition-biomassters-public...</td>\n",
       "      <td>s3://drivendata-competition-biomassters-public...</td>\n",
       "      <td>0003d2eb_agbm.tif</td>\n",
       "    </tr>\n",
       "    <tr>\n",
       "      <th>3</th>\n",
       "      <td>0003d2eb_S1_03.tif</td>\n",
       "      <td>0003d2eb</td>\n",
       "      <td>S1</td>\n",
       "      <td>train</td>\n",
       "      <td>December</td>\n",
       "      <td>1049524</td>\n",
       "      <td>3253084255</td>\n",
       "      <td>s3://drivendata-competition-biomassters-public...</td>\n",
       "      <td>s3://drivendata-competition-biomassters-public...</td>\n",
       "      <td>s3://drivendata-competition-biomassters-public...</td>\n",
       "      <td>0003d2eb_agbm.tif</td>\n",
       "    </tr>\n",
       "    <tr>\n",
       "      <th>4</th>\n",
       "      <td>0003d2eb_S1_04.tif</td>\n",
       "      <td>0003d2eb</td>\n",
       "      <td>S1</td>\n",
       "      <td>train</td>\n",
       "      <td>January</td>\n",
       "      <td>1049524</td>\n",
       "      <td>2467836265</td>\n",
       "      <td>s3://drivendata-competition-biomassters-public...</td>\n",
       "      <td>s3://drivendata-competition-biomassters-public...</td>\n",
       "      <td>s3://drivendata-competition-biomassters-public...</td>\n",
       "      <td>0003d2eb_agbm.tif</td>\n",
       "    </tr>\n",
       "  </tbody>\n",
       "</table>\n",
       "</div>"
      ],
      "text/plain": [
       "             filename   chip_id satellite  split      month     size  \\\n",
       "0  0003d2eb_S1_00.tif  0003d2eb        S1  train  September  1049524   \n",
       "1  0003d2eb_S1_01.tif  0003d2eb        S1  train    October  1049524   \n",
       "2  0003d2eb_S1_02.tif  0003d2eb        S1  train   November  1049524   \n",
       "3  0003d2eb_S1_03.tif  0003d2eb        S1  train   December  1049524   \n",
       "4  0003d2eb_S1_04.tif  0003d2eb        S1  train    January  1049524   \n",
       "\n",
       "        cksum                                          s3path_us  \\\n",
       "0  3953454613  s3://drivendata-competition-biomassters-public...   \n",
       "1  3531005382  s3://drivendata-competition-biomassters-public...   \n",
       "2  1401197002  s3://drivendata-competition-biomassters-public...   \n",
       "3  3253084255  s3://drivendata-competition-biomassters-public...   \n",
       "4  2467836265  s3://drivendata-competition-biomassters-public...   \n",
       "\n",
       "                                           s3path_eu  \\\n",
       "0  s3://drivendata-competition-biomassters-public...   \n",
       "1  s3://drivendata-competition-biomassters-public...   \n",
       "2  s3://drivendata-competition-biomassters-public...   \n",
       "3  s3://drivendata-competition-biomassters-public...   \n",
       "4  s3://drivendata-competition-biomassters-public...   \n",
       "\n",
       "                                           s3path_as corresponding_agbm  \n",
       "0  s3://drivendata-competition-biomassters-public...  0003d2eb_agbm.tif  \n",
       "1  s3://drivendata-competition-biomassters-public...  0003d2eb_agbm.tif  \n",
       "2  s3://drivendata-competition-biomassters-public...  0003d2eb_agbm.tif  \n",
       "3  s3://drivendata-competition-biomassters-public...  0003d2eb_agbm.tif  \n",
       "4  s3://drivendata-competition-biomassters-public...  0003d2eb_agbm.tif  "
      ]
     },
     "execution_count": 90,
     "metadata": {},
     "output_type": "execute_result"
    }
   ],
   "source": [
    "features_df = pandas.read_csv(features_csv_path)\n",
    "features_df.head()"
   ]
  },
  {
   "cell_type": "code",
   "execution_count": 91,
   "metadata": {},
   "outputs": [
    {
     "data": {
      "text/html": [
       "<div>\n",
       "<style scoped>\n",
       "    .dataframe tbody tr th:only-of-type {\n",
       "        vertical-align: middle;\n",
       "    }\n",
       "\n",
       "    .dataframe tbody tr th {\n",
       "        vertical-align: top;\n",
       "    }\n",
       "\n",
       "    .dataframe thead th {\n",
       "        text-align: right;\n",
       "    }\n",
       "</style>\n",
       "<table border=\"1\" class=\"dataframe\">\n",
       "  <thead>\n",
       "    <tr style=\"text-align: right;\">\n",
       "      <th></th>\n",
       "      <th>filename</th>\n",
       "      <th>chip_id</th>\n",
       "      <th>size</th>\n",
       "      <th>cksum</th>\n",
       "      <th>s3path_us</th>\n",
       "      <th>s3path_eu</th>\n",
       "      <th>s3path_as</th>\n",
       "    </tr>\n",
       "  </thead>\n",
       "  <tbody>\n",
       "    <tr>\n",
       "      <th>0</th>\n",
       "      <td>0003d2eb_agbm.tif</td>\n",
       "      <td>0003d2eb</td>\n",
       "      <td>262482</td>\n",
       "      <td>2036246549</td>\n",
       "      <td>s3://drivendata-competition-biomassters-public...</td>\n",
       "      <td>s3://drivendata-competition-biomassters-public...</td>\n",
       "      <td>s3://drivendata-competition-biomassters-public...</td>\n",
       "    </tr>\n",
       "    <tr>\n",
       "      <th>1</th>\n",
       "      <td>000aa810_agbm.tif</td>\n",
       "      <td>000aa810</td>\n",
       "      <td>262482</td>\n",
       "      <td>2858468457</td>\n",
       "      <td>s3://drivendata-competition-biomassters-public...</td>\n",
       "      <td>s3://drivendata-competition-biomassters-public...</td>\n",
       "      <td>s3://drivendata-competition-biomassters-public...</td>\n",
       "    </tr>\n",
       "    <tr>\n",
       "      <th>2</th>\n",
       "      <td>000d7e33_agbm.tif</td>\n",
       "      <td>000d7e33</td>\n",
       "      <td>262482</td>\n",
       "      <td>277850822</td>\n",
       "      <td>s3://drivendata-competition-biomassters-public...</td>\n",
       "      <td>s3://drivendata-competition-biomassters-public...</td>\n",
       "      <td>s3://drivendata-competition-biomassters-public...</td>\n",
       "    </tr>\n",
       "    <tr>\n",
       "      <th>3</th>\n",
       "      <td>00184691_agbm.tif</td>\n",
       "      <td>00184691</td>\n",
       "      <td>262482</td>\n",
       "      <td>3502312579</td>\n",
       "      <td>s3://drivendata-competition-biomassters-public...</td>\n",
       "      <td>s3://drivendata-competition-biomassters-public...</td>\n",
       "      <td>s3://drivendata-competition-biomassters-public...</td>\n",
       "    </tr>\n",
       "    <tr>\n",
       "      <th>4</th>\n",
       "      <td>001b0634_agbm.tif</td>\n",
       "      <td>001b0634</td>\n",
       "      <td>262482</td>\n",
       "      <td>2397957274</td>\n",
       "      <td>s3://drivendata-competition-biomassters-public...</td>\n",
       "      <td>s3://drivendata-competition-biomassters-public...</td>\n",
       "      <td>s3://drivendata-competition-biomassters-public...</td>\n",
       "    </tr>\n",
       "  </tbody>\n",
       "</table>\n",
       "</div>"
      ],
      "text/plain": [
       "            filename   chip_id    size       cksum  \\\n",
       "0  0003d2eb_agbm.tif  0003d2eb  262482  2036246549   \n",
       "1  000aa810_agbm.tif  000aa810  262482  2858468457   \n",
       "2  000d7e33_agbm.tif  000d7e33  262482   277850822   \n",
       "3  00184691_agbm.tif  00184691  262482  3502312579   \n",
       "4  001b0634_agbm.tif  001b0634  262482  2397957274   \n",
       "\n",
       "                                           s3path_us  \\\n",
       "0  s3://drivendata-competition-biomassters-public...   \n",
       "1  s3://drivendata-competition-biomassters-public...   \n",
       "2  s3://drivendata-competition-biomassters-public...   \n",
       "3  s3://drivendata-competition-biomassters-public...   \n",
       "4  s3://drivendata-competition-biomassters-public...   \n",
       "\n",
       "                                           s3path_eu  \\\n",
       "0  s3://drivendata-competition-biomassters-public...   \n",
       "1  s3://drivendata-competition-biomassters-public...   \n",
       "2  s3://drivendata-competition-biomassters-public...   \n",
       "3  s3://drivendata-competition-biomassters-public...   \n",
       "4  s3://drivendata-competition-biomassters-public...   \n",
       "\n",
       "                                           s3path_as  \n",
       "0  s3://drivendata-competition-biomassters-public...  \n",
       "1  s3://drivendata-competition-biomassters-public...  \n",
       "2  s3://drivendata-competition-biomassters-public...  \n",
       "3  s3://drivendata-competition-biomassters-public...  \n",
       "4  s3://drivendata-competition-biomassters-public...  "
      ]
     },
     "execution_count": 91,
     "metadata": {},
     "output_type": "execute_result"
    }
   ],
   "source": [
    "labels_df = pandas.read_csv(labels_csv_path)\n",
    "labels_df.head()"
   ]
  },
  {
   "cell_type": "markdown",
   "metadata": {},
   "source": [
    "## Compute dataset statistics"
   ]
  },
  {
   "cell_type": "markdown",
   "metadata": {},
   "source": [
    "The number of `chip_id`s per split:"
   ]
  },
  {
   "cell_type": "code",
   "execution_count": null,
   "metadata": {},
   "outputs": [
    {
     "data": {
      "text/plain": [
       "train    8689\n",
       "test     2773\n",
       "Name: split, dtype: int64"
      ]
     },
     "execution_count": 74,
     "metadata": {},
     "output_type": "execute_result"
    }
   ],
   "source": [
    "features_df.groupby('chip_id').first().split.value_counts()"
   ]
  },
  {
   "cell_type": "markdown",
   "metadata": {},
   "source": [
    "The number of 1-band rasters per split:"
   ]
  },
  {
   "cell_type": "code",
   "execution_count": null,
   "metadata": {},
   "outputs": [
    {
     "data": {
      "text/plain": [
       "train    189078\n",
       "test      63348\n",
       "Name: split, dtype: int64"
      ]
     },
     "execution_count": 75,
     "metadata": {},
     "output_type": "execute_result"
    }
   ],
   "source": [
    "features_df.split.value_counts()"
   ]
  },
  {
   "cell_type": "markdown",
   "metadata": {},
   "source": [
    "## Download subset of data"
   ]
  },
  {
   "cell_type": "markdown",
   "metadata": {},
   "source": [
    "Get a small subset of the training `chip_id`s (after seeding and randomly shuffling)"
   ]
  },
  {
   "cell_type": "code",
   "execution_count": null,
   "metadata": {},
   "outputs": [
    {
     "data": {
      "text/plain": [
       "8689"
      ]
     },
     "execution_count": 76,
     "metadata": {},
     "output_type": "execute_result"
    }
   ],
   "source": [
    "train_chip_ids = features_df.query('split==\"train\"').chip_id.unique()\n",
    "random.seed(1234)\n",
    "random.shuffle(train_chip_ids)\n",
    "len(train_chip_ids)"
   ]
  },
  {
   "cell_type": "code",
   "execution_count": null,
   "metadata": {},
   "outputs": [],
   "source": [
    "subset_sz = 10\n",
    "_train_chip_ids = train_chip_ids[0:subset_sz]"
   ]
  },
  {
   "cell_type": "markdown",
   "metadata": {},
   "source": [
    "Download a subset of the data locally"
   ]
  },
  {
   "cell_type": "code",
   "execution_count": null,
   "metadata": {},
   "outputs": [],
   "source": [
    "def get_image_uri(split, chip_id, satellite, month, \n",
    "                  root_uri='s3://drivendata-competition-biomassters-public-us'):\n",
    "    return join(root_uri, f'{split}_features/{chip_id}_{satellite}_{month:02}.tif')\n",
    "\n",
    "def get_label_uri(split, chip_id, \n",
    "                  root_uri='s3://drivendata-competition-biomassters-public-us'):\n",
    "    return join(root_uri, f'{split}_agbm/{chip_id}_agbm.tif')"
   ]
  },
  {
   "cell_type": "code",
   "execution_count": null,
   "metadata": {},
   "outputs": [
    {
     "name": "stdout",
     "output_type": "stream",
     "text": [
      "[('s3://drivendata-competition-biomassters-public-us/train_features/d8e45923_S1_00.tif', '/Users/lewfish/data/biomass/dataset/train_features/d8e45923_S1_00.tif'), ('s3://drivendata-competition-biomassters-public-us/train_features/d8e45923_S1_01.tif', '/Users/lewfish/data/biomass/dataset/train_features/d8e45923_S1_01.tif')]\n"
     ]
    }
   ],
   "source": [
    "download_tasks = []\n",
    "for chip_id in _train_chip_ids:\n",
    "    for satellite in ['S1', 'S2']:\n",
    "        for month in range(0, 12):\n",
    "            image_uri = get_image_uri('train', chip_id, satellite, month)\n",
    "            image_path = join(image_dir, basename(image_uri))\n",
    "            download_tasks.append((image_uri, image_path))\n",
    "    label_uri = get_label_uri('train', chip_id)\n",
    "    label_path = join(label_dir, basename(label_uri))\n",
    "    download_tasks.append((label_uri, label_path))\n",
    "print(download_tasks[0:2])"
   ]
  },
  {
   "cell_type": "code",
   "execution_count": null,
   "metadata": {},
   "outputs": [
    {
     "data": {
      "application/vnd.jupyter.widget-view+json": {
       "model_id": "cebbb612671f4a7fb4c69b97b957b6f7",
       "version_major": 2,
       "version_minor": 0
      },
      "text/plain": [
       "A Jupyter Widget"
      ]
     },
     "metadata": {},
     "output_type": "display_data"
    }
   ],
   "source": [
    "fs = s3fs.S3FileSystem(anon=True)\n",
    "\n",
    "def download_file(x):\n",
    "    from_uri, to_path = x\n",
    "    if fs.exists(from_uri):\n",
    "        fs.download(from_uri, to_path)\n",
    "\n",
    "pool = ThreadPool(8)\n",
    "for _ in tqdm(pool.imap_unordered(download_file, download_tasks), \n",
    "                total=len(download_tasks)):\n",
    "    pass"
   ]
  },
  {
   "cell_type": "markdown",
   "metadata": {},
   "source": [
    "## Load and visualize data"
   ]
  },
  {
   "cell_type": "markdown",
   "metadata": {},
   "source": [
    "Make PyTorch `Dataset` class to read dataset"
   ]
  },
  {
   "cell_type": "code",
   "execution_count": null,
   "metadata": {},
   "outputs": [],
   "source": [
    "class BiomassDataset(Dataset):\n",
    "    def __init__(self, root_uri, split, chip_ids):\n",
    "        self.root_uri = root_uri\n",
    "        self.split = split\n",
    "        self.chip_ids = chip_ids\n",
    "    \n",
    "    def __len__(self):\n",
    "        return len(self.chip_ids)\n",
    "\n",
    "    def __getitem__(self, ind):\n",
    "        chip_id = self.chip_ids[ind]\n",
    "        img_arrs = []\n",
    "        avail_months = []\n",
    "        \n",
    "        for month in range(0, 12):\n",
    "            sat_arrs = []\n",
    "            for satellite in ['S1', 'S2']:                \n",
    "                image_path = get_image_uri(\n",
    "                    self.split, chip_id, satellite, month, root_uri=self.root_uri)\n",
    "                if isfile(image_path):\n",
    "                    with rasterio.open(image_path) as img:\n",
    "                        if satellite == 'S1':\n",
    "                            # S1 is float32 and -9999 means missing data\n",
    "                            sat_arr = torch.from_numpy(img.read())\n",
    "                        else:\n",
    "                            # S2 is uint16 and the last band is cloud probability \n",
    "                            # (ranges 0-100, or 255 for noise)\n",
    "                            sat_arr = torch.from_numpy(img.read().astype(np.float32))\n",
    "                            sat_arr[0:-1] = sat_arr[0:-1] / np.iinfo(np.uint16).max\n",
    "                            sat_arr[-1] = sat_arr[-1] / 100\n",
    "                        sat_arrs.append(sat_arr)\n",
    "            if len(sat_arrs) == 2:\n",
    "                img_arr = torch.cat(sat_arrs, dim=0)\n",
    "                img_arrs.append(img_arr.unsqueeze(0))\n",
    "                avail_months.append(month)\n",
    "        \n",
    "        img_arr = torch.cat(img_arrs, dim=0)\n",
    "        label_path = get_label_uri(self.split, chip_id, root_uri=self.root_uri)\n",
    "        with rasterio.open(label_path) as label:\n",
    "            label_arr = torch.from_numpy(label.read()).squeeze()\n",
    "        \n",
    "        metadata = {\n",
    "            'avail_months': avail_months,\n",
    "            'chip_id': chip_id\n",
    "        }\n",
    "        return img_arr, label_arr, metadata"
   ]
  },
  {
   "cell_type": "markdown",
   "metadata": {},
   "source": [
    "Read a single chip"
   ]
  },
  {
   "cell_type": "code",
   "execution_count": null,
   "metadata": {},
   "outputs": [
    {
     "name": "stdout",
     "output_type": "stream",
     "text": [
      "torch.Size([11, 15, 256, 256])\n",
      "torch.Size([256, 256])\n",
      "{'avail_months': [0, 1, 2, 4, 5, 6, 7, 8, 9, 10, 11], 'chip_id': 'd8e45923'}\n"
     ]
    },
    {
     "name": "stderr",
     "output_type": "stream",
     "text": [
      "/opt/homebrew/lib/python3.9/site-packages/rasterio/__init__.py:304: NotGeoreferencedWarning: Dataset has no geotransform, gcps, or rpcs. The identity matrix will be returned.\n",
      "  dataset = DatasetReader(path, driver=driver, sharing=sharing, **kwargs)\n"
     ]
    }
   ],
   "source": [
    "biomass_ds = BiomassDataset(dataset_dir, 'train', _train_chip_ids)\n",
    "\n",
    "x, y, metadata = biomass_ds[0]\n",
    "print(x.shape)\n",
    "print(y.shape)\n",
    "print(metadata)\n"
   ]
  },
  {
   "cell_type": "code",
   "execution_count": null,
   "metadata": {},
   "outputs": [],
   "source": [
    "def plot_xy(x, y, metadata, out_path=None):\n",
    "    nrows = x.shape[0] + 1\n",
    "    ncols = 15\n",
    "    # I'm not totally sure this is the right order for S1\n",
    "    s1_bands = ['VV Asc', 'VH Asc', 'VV Desc', 'VH Desc']\n",
    "    s2_bands = ['B2', 'B3', 'B4', 'B5', 'B6', 'B7', 'B8', 'B8A', 'B11', 'B12', 'CLP']\n",
    "    bands = s1_bands + s2_bands\n",
    "    months = [\n",
    "        'September', 'October', 'November', 'December', 'January', 'February', 'March', \n",
    "        'April', 'May', 'June', 'July', 'August']\n",
    "\n",
    "    fig, axs = plt.subplots(\n",
    "        nrows, ncols, constrained_layout=True, figsize=(1.5 * ncols, 1.5 * nrows),\n",
    "        squeeze=False)\n",
    "\n",
    "    for row_ind, row_axs in enumerate(axs):\n",
    "        if row_ind == nrows - 1:\n",
    "            # plot the label in the last row\n",
    "            for col_ind, ax in enumerate(row_axs):\n",
    "                if col_ind == 0:\n",
    "                    ax.imshow(y)\n",
    "                    ax.set_title('Biomass Estimate')\n",
    "                ax.set_xticks([])\n",
    "                ax.set_yticks([])\n",
    "        else:\n",
    "            for col_ind, ax in enumerate(row_axs):\n",
    "                _x = x[row_ind, col_ind, :, :]\n",
    "                ax.imshow(_x)\n",
    "                \n",
    "                if col_ind == 0:\n",
    "                    ax.set_ylabel(months[metadata['avail_months'][row_ind]])\n",
    "                if row_ind == 0:\n",
    "                    ax.set_title(bands[col_ind])\n",
    "                \n",
    "                ax.set_xticks([])\n",
    "                ax.set_yticks([])\n",
    "\n",
    "    if out_path:\n",
    "        plt.savefig(\n",
    "            out_path, bbox_inches='tight', pad_inches=0.2, transparent=False, dpi=300)\n",
    "    else:\n",
    "        plt.show()"
   ]
  },
  {
   "cell_type": "markdown",
   "metadata": {},
   "source": [
    "Save a plot for each chip"
   ]
  },
  {
   "cell_type": "code",
   "execution_count": 89,
   "metadata": {},
   "outputs": [
    {
     "data": {
      "application/vnd.jupyter.widget-view+json": {
       "model_id": "749dd24682bd4d61bcfa0ec8dd7908ac",
       "version_major": 2,
       "version_minor": 0
      },
      "text/plain": [
       "A Jupyter Widget"
      ]
     },
     "metadata": {},
     "output_type": "display_data"
    }
   ],
   "source": [
    "# need to use multiprocess fork which works in Jupyter notebooks\n",
    "from multiprocess import Pool\n",
    "\n",
    "def plot_item(item):\n",
    "    x, y, metadata = item\n",
    "    chip_id = metadata['chip_id']\n",
    "    plot_path = join(output_dir, f'{chip_id}.png')\n",
    "    plot_xy(x, y, metadata, plot_path)\n",
    "\n",
    "pool = Pool(8)\n",
    "for _ in tqdm(pool.imap_unordered(plot_item, biomass_ds), total=len(biomass_ds)):\n",
    "    pass"
   ]
  }
 ],
 "metadata": {
  "kernelspec": {
   "display_name": "Python 3.9.12 64-bit",
   "language": "python",
   "name": "python3"
  },
  "language_info": {
   "codemirror_mode": {
    "name": "ipython",
    "version": 3
   },
   "file_extension": ".py",
   "mimetype": "text/x-python",
   "name": "python",
   "nbconvert_exporter": "python",
   "pygments_lexer": "ipython3",
   "version": "3.9.12"
  },
  "orig_nbformat": 4,
  "vscode": {
   "interpreter": {
    "hash": "b0fa6594d8f4cbf19f97940f81e996739fb7646882a419484c72d19e05852a7e"
   }
  }
 },
 "nbformat": 4,
 "nbformat_minor": 2
}
